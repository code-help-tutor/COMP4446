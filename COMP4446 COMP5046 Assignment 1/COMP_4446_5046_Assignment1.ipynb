{
  "nbformat": 4,
  "nbformat_minor": 0,
  "metadata": {
    "colab": {
      "provenance": [],
      "toc_visible": true
    },
    "kernelspec": {
      "name": "python3",
      "display_name": "Python 3"
    },
    "language_info": {
      "name": "python"
    }
  },
  "cells": [
    {
      "cell_type": "markdown",
      "source": [
        "# 2023 COMP 4446 / 5046 Assignment 1\n",
        "\n",
        "Assingment 1 is an **individual** assessment. Please note the University's [Academic dishonesty and plagiarism policy](https://www.sydney.edu.au/students/academic-dishonesty.html).\n",
        "\n",
        "Submission Deadline: Friday, March 17th, 2023, 11:59pm\n",
        "\n",
        "Submit via Canvas:\n",
        "- Your notebook\n",
        "- Run all cells before saving the notebook, so we can see your output\n",
        "\n",
        "In this assignment, we will explore ways to predict the length of a Wikipedia article based on the first 100 tokens in the article. Such a model could be used to explore whether there are systematic biases in the types of articles that get more detail.\n",
        "\n",
        "If you are working in another language, please make sure to clearly indicate which part of your code is running which section of the assignment and produce output that provides all necessary information. Submit your code, example outputs, and instructions for executing it.\n",
        "\n",
        "Note: This assignment contains topics that are not covered at the time of release. Each section has information about which lectures and/or labs covered the relevant material. We are releasing it now so you can (1) start working on some parts early, and (2) know what will be in the assignment when you attend the relevant labs and lectures."
      ],
      "metadata": {
        "id": "UOKBV2uWZ9U_"
      }
    },
    {
      "cell_type": "markdown",
      "source": [
        "# **TODO: Copy and Name this File**\n",
        "Make a copy of this notebook in your own Google Drive (File -> Save a Copy in Drive) and change the filename, replacing `YOUR-UNIKEY`. For example, for a person with unikey `mcol1997`, the filename should be:\n",
        "\n",
        "`COMP-4446-5046_Assignment1_mcol1997.ipynb`"
      ],
      "metadata": {
        "id": "FA3m7neId4ow"
      }
    },
    {
      "cell_type": "markdown",
      "source": [
        "# Readme\n",
        "*If there is something you want to tell the marker about your submission, please mention it here.* "
      ],
      "metadata": {
        "id": "qut4Xg5mbYXe"
      }
    },
    {
      "cell_type": "markdown",
      "source": [
        "[write here - optional]"
      ],
      "metadata": {
        "id": "YaX3ihzU7uDL"
      }
    },
    {
      "cell_type": "markdown",
      "source": [
        "# Data Download [DO NOT MODIFY THIS]\n",
        "\n",
        "We have already constructed a dataset for you using a recent dump of data from Wikipedia. Both the training and test datasets are provided in the form of csv files (training_data.csv, test_data.csv) and can be downloaded from Google Drive using the code below. Each row of the data contains:\n",
        "\n",
        "- The length of the article\n",
        "- The title of the article\n",
        "- The first 100 tokens of the article\n",
        "\n",
        "In case you are curious, we constructed this dataset as follows:\n",
        "1. Downloaded [a recent dump](https://dumps.wikimedia.org/) of English wikipedia.\n",
        "2. Ran [WikiExtractor](https://github.com/attardi/wikiextractor) to get the contents of the pages.\n",
        "3. Filtered out very short pages.\n",
        "4. Ran [SpaCy](https://spacy.io/) with the `en_core_web_lg` model to tokenise the pages (Note, SpaCy's development is led by an alumnus of USyd!).\n",
        "5. Counted the tokens and saved the relevant data in the format described above.\n",
        "\n",
        "This code will download the data. **DO NOT MODIFY IT**"
      ],
      "metadata": {
        "id": "-Ib68RAoatjk"
      }
    },
    {
      "cell_type": "code",
      "execution_count": 1,
      "metadata": {
        "colab": {
          "base_uri": "https://localhost:8080/"
        },
        "id": "94u_ipMMZ6Cu",
        "outputId": "9d6642b5-c927-4ed4-ec4f-217312375dbf"
      },
      "outputs": [
        {
          "output_type": "stream",
          "name": "stdout",
          "text": [
            "------------------------------------\n",
            "Size of training data: 9859\n",
            "Size of development data: 994\n",
            "Size of test data: 991\n",
            "------------------------------------\n",
            "------------------------------------\n",
            "Sample Data\n",
            "LABEL: 6453 / SENTENCE: ['Anarchism', 'Anarchism is a political philosophy and movement that is skeptical of all justifications for authority and seeks to abolish the institutions it claims maintain unnecessary coercion and hierarchy , typically including , though not necessarily limited to , governments , nation states , and capitalism . Anarchism advocates for the replacement of the state with stateless societies or other forms of free associations . As a historically left - wing movement , usually placed on the farthest left of the political spectrum , it is usually described alongside communalism and libertarian Marxism as the libertarian wing ( libertarian socialism )']\n",
            "------------------------------------\n",
            "6453\n",
            "Anarchism\n",
            "Anarchism is a political philosophy and movement that is skeptical of all justifications for authori...\n",
            "\n",
            "3528\n",
            "Albedo\n",
            "Albedo (; ) is the measure of the diffuse reflection of solar radiation out of the total solar radia...\n",
            "\n",
            "1265\n",
            "A\n",
            "A , or a , is the first letter and the first vowel of the Latin alphabet , used in the modern Englis...\n",
            "\n",
            "11591\n",
            "Alabama\n",
            "Alabama ( ) is a state in the Southeastern region of the United States , bordered by Tennessee to th...\n",
            "\n",
            "5865\n",
            "Achilles\n",
            "In Greek mythology , Achilles ( ) or Achilleus ( ) was a hero of the Trojan War , the greatest of al...\n",
            "\n",
            "13412\n",
            "Abraham Lincoln\n",
            "Abraham Lincoln ( ; February 12 , 1809   – April 15 , 1865 ) was an American lawyer , politician , a...\n",
            "\n",
            "9485\n",
            "Aristotle\n",
            "Aristotle (; \" Aristotélēs \" , ; 384–322   BC ) was a Greek philosopher and polymath during the Clas...\n",
            "\n",
            "1683\n",
            "An American in Paris\n",
            "An American in Paris is a jazz - influenced orchestral piece by American composer George Gershwin fi...\n",
            "\n",
            "149\n",
            "Academy Award for Best Production Design\n",
            "The Academy Award for Best Production Design recognizes achievement for art direction in film . The ...\n",
            "\n",
            "7178\n",
            "Academy Awards\n",
            "The Academy Awards , better known as the Oscars , are awards for artistic and technical merit for th...\n",
            "\n"
          ]
        }
      ],
      "source": [
        "## DO NOT MODIFY THIS CODE\n",
        "# Code to download files into Colaboratory\n",
        "\n",
        "# Install the PyDrive library\n",
        "!pip install -U -q PyDrive\n",
        "\n",
        "# Import libraries for accessing Google Drive\n",
        "from pydrive.auth import GoogleAuth\n",
        "from pydrive.drive import GoogleDrive\n",
        "from google.colab import auth\n",
        "from oauth2client.client import GoogleCredentials\n",
        "\n",
        "# Authenticate and create the PyDrive client.\n",
        "auth.authenticate_user()\n",
        "gauth = GoogleAuth()\n",
        "gauth.credentials = GoogleCredentials.get_application_default()\n",
        "drive = GoogleDrive(gauth)\n",
        "\n",
        "# Function to read the file, save it on the machine this colab is running on, and then read it in\n",
        "import csv\n",
        "def read_file(file_id, filename):\n",
        "  downloaded = drive.CreateFile({'id':file_id})\n",
        "  downloaded.GetContentFile(filename)\n",
        "  with open(filename) as src:\n",
        "    reader = csv.reader(src)\n",
        "    data = [r for r in reader]\n",
        "  return data\n",
        "\n",
        "# Calls to get the data\n",
        "# If you need to access the data directly (e.g., you are running experiments on a local machine), use these links:\n",
        "# - Training, https://drive.google.com/file/d/1-UGFS8D-qglAX-czU38KaM4jQVCoNe0W/view?usp=share_link\n",
        "# - Dev, https://drive.google.com/file/d/1RWMEf0mdJMTkWc7dvN0ioks8bjujqZaN/view?usp=share_link\n",
        "# - Test, https://drive.google.com/file/d/1YVPNzdIFSMmVPeLBP-gf5DOIed3oRFyB/view?usp=share_link\n",
        "training_data = read_file('1-UGFS8D-qglAX-czU38KaM4jQVCoNe0W', \"/content/training_data.csv\")\n",
        "dev_data = read_file('1RWMEf0mdJMTkWc7dvN0ioks8bjujqZaN', \"/content/dev_data.csv\")\n",
        "test_data = read_file('1YVPNzdIFSMmVPeLBP-gf5DOIed3oRFyB', \"/content/test_data.csv\")\n",
        "\n",
        "print(\"------------------------------------\")\n",
        "print(\"Size of training data: {0}\".format(len(training_data)))\n",
        "print(\"Size of development data: {0}\".format(len(dev_data)))\n",
        "print(\"Size of test data: {0}\".format(len(test_data)))\n",
        "print(\"------------------------------------\")\n",
        "\n",
        "print(\"------------------------------------\")\n",
        "print(\"Sample Data\")\n",
        "print(\"LABEL: {0} / SENTENCE: {1}\".format(training_data[0][0], training_data[0][1:]))\n",
        "print(\"------------------------------------\")\n",
        "\n",
        "# Preview of the data in the csv file, which has three columns: \n",
        "# (1) length of article, (2) title of the article, (3) first 100 words in the article\n",
        "for v in training_data[:10]:\n",
        "  print(\"{}\\n{}\\n{}\\n\".format(v[0], v[1], v[2][:100] + \"...\"))\n",
        "\n",
        "# Store the data in lists and mofidy the length value to be in [0, 1]\n",
        "training_lengths = [min(1.0, int(r[0])/10000) for r in training_data]\n",
        "training_text = [r[2] for r in training_data]\n",
        "\n",
        "dev_lengths = [min(1.0, int(r[0])/10000) for r in dev_data]\n",
        "dev_text = [r[2] for r in dev_data]\n",
        "\n",
        "test_lengths = [min(1.0, int(r[0])/10000) for r in test_data]\n",
        "test_text = [r[2] for r in test_data]"
      ]
    },
    {
      "cell_type": "markdown",
      "source": [
        "# 1 - Predicting article length from initial content\n",
        "\n",
        "This section relates to content from **the week 1 lecture and the week 2 lab**.\n",
        "\n",
        "In this section, you will implement training and evaluation of a linear model (as seen in the week 2 lab) to predict the length of a wikipedia article from its first 100 words. You will represent the text using a Bag of Words model (as seen in the week 1 lecture)."
      ],
      "metadata": {
        "id": "QwiKfKQtphIb"
      }
    },
    {
      "cell_type": "markdown",
      "source": [
        "## 1.1 Word Mapping [2pt]\n",
        "\n",
        "In the code block below, write code to go through the training data and for any word that occurs at least 10 times:\n",
        "- Assign it a unique ID (consecutive, starting at 0)\n",
        "- Place it in a dictionary that maps from the word to the ID"
      ],
      "metadata": {
        "id": "DAGSol9qHIj5"
      }
    },
    {
      "cell_type": "code",
      "source": [
        "# Your code goes here"
      ],
      "metadata": {
        "id": "nsNf7pa5a9J6"
      },
      "execution_count": null,
      "outputs": []
    },
    {
      "cell_type": "markdown",
      "source": [
        "## 1.2 Data to Bag-of-Words Tensors [2pt]\n",
        "\n",
        "In the code block below, write code to prepare the data in PyTorch tensors.\n",
        "\n",
        "The text should be converted to a bag of words (ie., a vector the length of the vocabulary in the mapping in the previous step, with counts of the words in the text)."
      ],
      "metadata": {
        "id": "8r3Ej4fBIKJB"
      }
    },
    {
      "cell_type": "code",
      "source": [
        "# Your code goes here"
      ],
      "metadata": {
        "id": "7Or-645qIKQC"
      },
      "execution_count": null,
      "outputs": []
    },
    {
      "cell_type": "markdown",
      "source": [
        "## 1.3 Model Creation [2pt]\n",
        "\n",
        "Construct a linear model with an SGD optimiser (we recommend a learning rate of `1e-4`) and mean squared error as the loss."
      ],
      "metadata": {
        "id": "nsb--KW_I_F7"
      }
    },
    {
      "cell_type": "code",
      "source": [
        "# Your code goes here"
      ],
      "metadata": {
        "id": "JEzbIGe4I_QK"
      },
      "execution_count": null,
      "outputs": []
    },
    {
      "cell_type": "markdown",
      "source": [
        "## 1.4 Training [2pt]\n",
        "\n",
        "Write a loop to train your model for 100 epochs, printing performance on the dev set every 10 epochs."
      ],
      "metadata": {
        "id": "AjHulTA6JQ3z"
      }
    },
    {
      "cell_type": "code",
      "source": [
        "# Your code goes here"
      ],
      "metadata": {
        "id": "WZdODnGdJQ8w"
      },
      "execution_count": null,
      "outputs": []
    },
    {
      "cell_type": "markdown",
      "source": [
        "## 1.1 Measure Accuracy [2pt]\n",
        "\n",
        "In the code block below, write code to evaluate your model on the test set."
      ],
      "metadata": {
        "id": "bCwG22mOoyJ0"
      }
    },
    {
      "cell_type": "code",
      "source": [
        "# Your code goes here"
      ],
      "metadata": {
        "id": "gs_yX-Gnoydf"
      },
      "execution_count": null,
      "outputs": []
    },
    {
      "cell_type": "markdown",
      "source": [
        "## 1.2 Analyse the Model [2pt]\n",
        "\n",
        "In the code block below, write code to identify the 50 words with the highest weights and the 50 words with the lowest weights."
      ],
      "metadata": {
        "id": "1TE7CMqZoylt"
      }
    },
    {
      "cell_type": "code",
      "source": [
        "# Your code goes here"
      ],
      "metadata": {
        "id": "T4bmSbhhoy7d"
      },
      "execution_count": null,
      "outputs": []
    },
    {
      "cell_type": "markdown",
      "source": [
        "# 2 - Compare Data Storage Methods\n",
        "\n",
        "This section relates to content from **the week 1 lecture and the week 2 lab**.\n",
        "\n",
        "Implement a variant of the model with a sparse vector for your input bag of words (See https://pytorch.org/docs/stable/sparse.html for how to switch a vector to be sparse). Use the default sparse vector type (COO)."
      ],
      "metadata": {
        "id": "l5fxNtitbFck"
      }
    },
    {
      "cell_type": "code",
      "source": [
        "# Your code goes here"
      ],
      "metadata": {
        "id": "jc7LbuE6bQjW"
      },
      "execution_count": null,
      "outputs": []
    },
    {
      "cell_type": "markdown",
      "source": [
        "## 2.1 Training and Test Speed [2pt]\n",
        "Compare the time it takes to train and test the new model with the time it takes to train and test the old model.\n",
        "\n",
        "You can time the execution of a line of code using `%time`.\n",
        "See [this guide](https://colab.research.google.com/github/jakevdp/PythonDataScienceHandbook/blob/master/notebooks/01.07-Timing-and-Profiling.ipynb#scrollTo=z1gyaC_PNZUB) for more on timing."
      ],
      "metadata": {
        "id": "HkAPEr91qBTG"
      }
    },
    {
      "cell_type": "code",
      "source": [
        "# Example of timing\n",
        "%time print(\"hi!\")"
      ],
      "metadata": {
        "colab": {
          "base_uri": "https://localhost:8080/"
        },
        "id": "eTNvBJZXN7LO",
        "outputId": "9644500a-5213-4696-e26a-ed913ea5f28e"
      },
      "execution_count": 1,
      "outputs": [
        {
          "output_type": "stream",
          "name": "stdout",
          "text": [
            "hi!\n",
            "CPU times: user 89 µs, sys: 867 µs, total: 956 µs\n",
            "Wall time: 963 µs\n"
          ]
        }
      ]
    },
    {
      "cell_type": "code",
      "source": [
        "# Your code goes here"
      ],
      "metadata": {
        "id": "HnRzVlA9qBYm"
      },
      "execution_count": null,
      "outputs": []
    },
    {
      "cell_type": "markdown",
      "source": [
        "# 3 - Switch to Word Embeddings\n",
        "\n",
        "This section relates to content from **the week 2 lecture and the week 3 lab**.\n",
        "\n",
        "In this section, you will implement a model based on word2vec.\n",
        "\n",
        "1. Use word2vec to learn embeddings for the words in your data.\n",
        "2. Represent each input document as the average of the word vectors for the words it contains.\n",
        "3. Train a linear regression model."
      ],
      "metadata": {
        "id": "Whic_heibGEL"
      }
    },
    {
      "cell_type": "code",
      "source": [
        "# Your code goes here"
      ],
      "metadata": {
        "id": "nA-x3rwObQ6_"
      },
      "execution_count": null,
      "outputs": []
    },
    {
      "cell_type": "markdown",
      "source": [
        "## 3.1 Accuracy [1pt]\n",
        "\n",
        "Calculate the accuracy of your model."
      ],
      "metadata": {
        "id": "Yj4ogp1Rq3Tq"
      }
    },
    {
      "cell_type": "code",
      "source": [
        "# Your code goes here"
      ],
      "metadata": {
        "id": "TWP19fZKq3Zm"
      },
      "execution_count": null,
      "outputs": []
    },
    {
      "cell_type": "markdown",
      "source": [
        "## 3.2 Speed [1pt]\n",
        "\n",
        "Calcualte how long it takes your model to be evaluated."
      ],
      "metadata": {
        "id": "zVXaNbLlq3fJ"
      }
    },
    {
      "cell_type": "code",
      "source": [
        "# Your code goes here"
      ],
      "metadata": {
        "id": "zp8q-nZOq3ko"
      },
      "execution_count": null,
      "outputs": []
    },
    {
      "cell_type": "markdown",
      "source": [
        "# 4 - Open-Ended Improvement\n",
        "\n",
        "This section relates to content from **the week 1, 2, and 3 lectures and the week 1, 2, and 3 labs**.\n",
        "\n",
        "This section is an open-ended opportunity to find ways to make your model more accurate and/or faster (e.g., use WordNet to generalise words, try different word features, other optimisers, etc).\n",
        "\n",
        "We encourage you to try several ideas to provide scope for comparisons.\n",
        "\n",
        "If none of your ideas work you can still get full marks for this section. You just need to justify the ideas and discuss why they may not have improved performance.\n"
      ],
      "metadata": {
        "id": "QOT_5vmFbGy1"
      }
    },
    {
      "cell_type": "markdown",
      "source": [
        "## 4.1 Ideas and Motivation [1pt]\n",
        "\n",
        "In **this** box, describe your ideas and why you think they will improve accuracy and/or speed.\n",
        "\n",
        "*Your answer goes here*"
      ],
      "metadata": {
        "id": "Zryd7CmcrIjU"
      }
    },
    {
      "cell_type": "markdown",
      "source": [
        "## 4.2 Implementation [2pt]\n",
        "\n",
        "Implement your ideas"
      ],
      "metadata": {
        "id": "jn1aesgGrJSn"
      }
    },
    {
      "cell_type": "code",
      "source": [
        "# Your code goes here"
      ],
      "metadata": {
        "id": "0NhoI8FRbRSO"
      },
      "execution_count": null,
      "outputs": []
    },
    {
      "cell_type": "markdown",
      "source": [
        "## 4.3 Evaluation [1pt]\n",
        "\n",
        "Evaluate the speed and accuracy of the model with your ideas"
      ],
      "metadata": {
        "id": "btzsdyCTrW1D"
      }
    },
    {
      "cell_type": "code",
      "source": [
        "# Your code goes here"
      ],
      "metadata": {
        "id": "nwJH-lB5rW-d"
      },
      "execution_count": null,
      "outputs": []
    },
    {
      "cell_type": "markdown",
      "source": [
        "In **this** text box, briefly describe the results. Did your improvement work? Why / Why not?\n",
        "\n",
        "*Your answer goes here*"
      ],
      "metadata": {
        "id": "xBTz8zwRRLVQ"
      }
    }
  ]
}